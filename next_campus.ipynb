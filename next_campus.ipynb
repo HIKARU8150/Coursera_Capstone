{
 "cells": [
  {
   "cell_type": "code",
   "execution_count": 1,
   "metadata": {},
   "outputs": [],
   "source": [
    "#conda install -c conda-forge geopy"
   ]
  },
  {
   "cell_type": "code",
   "execution_count": 2,
   "metadata": {},
   "outputs": [],
   "source": [
    "# Importing required module \n",
    "from geopy.geocoders import Nominatim \n",
    "import pandas as pd"
   ]
  },
  {
   "cell_type": "code",
   "execution_count": 19,
   "metadata": {},
   "outputs": [
    {
     "data": {
      "text/html": [
       "<div>\n",
       "<style scoped>\n",
       "    .dataframe tbody tr th:only-of-type {\n",
       "        vertical-align: middle;\n",
       "    }\n",
       "\n",
       "    .dataframe tbody tr th {\n",
       "        vertical-align: top;\n",
       "    }\n",
       "\n",
       "    .dataframe thead th {\n",
       "        text-align: right;\n",
       "    }\n",
       "</style>\n",
       "<table border=\"1\" class=\"dataframe\">\n",
       "  <thead>\n",
       "    <tr style=\"text-align: right;\">\n",
       "      <th></th>\n",
       "      <th>zip_code</th>\n",
       "      <th>Prefecture</th>\n",
       "      <th>City</th>\n",
       "      <th>Area</th>\n",
       "      <th>lat</th>\n",
       "      <th>long</th>\n",
       "    </tr>\n",
       "  </thead>\n",
       "  <tbody>\n",
       "    <tr>\n",
       "      <th>0</th>\n",
       "      <td>1000000</td>\n",
       "      <td>TOKYO TO</td>\n",
       "      <td>CHIYODA KU</td>\n",
       "      <td>IKANIKEISAIGANAIBAAI</td>\n",
       "      <td>NaN</td>\n",
       "      <td>NaN</td>\n",
       "    </tr>\n",
       "    <tr>\n",
       "      <th>1</th>\n",
       "      <td>1020072</td>\n",
       "      <td>TOKYO TO</td>\n",
       "      <td>CHIYODA KU</td>\n",
       "      <td>IIDABASHI</td>\n",
       "      <td>NaN</td>\n",
       "      <td>NaN</td>\n",
       "    </tr>\n",
       "    <tr>\n",
       "      <th>2</th>\n",
       "      <td>1020082</td>\n",
       "      <td>TOKYO TO</td>\n",
       "      <td>CHIYODA KU</td>\n",
       "      <td>ICHIBANCHO</td>\n",
       "      <td>35.729056</td>\n",
       "      <td>139.378416</td>\n",
       "    </tr>\n",
       "    <tr>\n",
       "      <th>3</th>\n",
       "      <td>1010032</td>\n",
       "      <td>TOKYO TO</td>\n",
       "      <td>CHIYODA KU</td>\n",
       "      <td>IWAMOTOCHO</td>\n",
       "      <td>35.695600</td>\n",
       "      <td>139.775379</td>\n",
       "    </tr>\n",
       "    <tr>\n",
       "      <th>4</th>\n",
       "      <td>1010047</td>\n",
       "      <td>TOKYO TO</td>\n",
       "      <td>CHIYODA KU</td>\n",
       "      <td>UCHIKANDA</td>\n",
       "      <td>35.691038</td>\n",
       "      <td>139.767290</td>\n",
       "    </tr>\n",
       "  </tbody>\n",
       "</table>\n",
       "</div>"
      ],
      "text/plain": [
       "   zip_code Prefecture        City                  Area        lat  \\\n",
       "0   1000000   TOKYO TO  CHIYODA KU  IKANIKEISAIGANAIBAAI        NaN   \n",
       "1   1020072   TOKYO TO  CHIYODA KU             IIDABASHI        NaN   \n",
       "2   1020082   TOKYO TO  CHIYODA KU            ICHIBANCHO  35.729056   \n",
       "3   1010032   TOKYO TO  CHIYODA KU            IWAMOTOCHO  35.695600   \n",
       "4   1010047   TOKYO TO  CHIYODA KU             UCHIKANDA  35.691038   \n",
       "\n",
       "         long  \n",
       "0         NaN  \n",
       "1         NaN  \n",
       "2  139.378416  \n",
       "3  139.775379  \n",
       "4  139.767290  "
      ]
     },
     "execution_count": 19,
     "metadata": {},
     "output_type": "execute_result"
    }
   ],
   "source": [
    "# Import the data set\n",
    "tokyo_zip = pd.read_csv(\"tokyo_zip_latlong.csv\", header = None, names = [\"zip_code\", \"Prefecture\", \"City\", \"Area\", \"lat\", \"long\"])\n",
    "tokyo_zip.head()"
   ]
  },
  {
   "cell_type": "code",
   "execution_count": 21,
   "metadata": {},
   "outputs": [],
   "source": [
    "# remove datas not having lat and long\n",
    "tokyo_zip_filtered = tokyo_zip.dropna()"
   ]
  },
  {
   "cell_type": "code",
   "execution_count": 24,
   "metadata": {},
   "outputs": [
    {
     "data": {
      "text/plain": [
       "(1034, 6)"
      ]
     },
     "execution_count": 24,
     "metadata": {},
     "output_type": "execute_result"
    }
   ],
   "source": []
  },
  {
   "cell_type": "code",
   "execution_count": null,
   "metadata": {},
   "outputs": [],
   "source": []
  }
 ],
 "metadata": {
  "kernelspec": {
   "display_name": "Python 3",
   "language": "python",
   "name": "python3"
  },
  "language_info": {
   "codemirror_mode": {
    "name": "ipython",
    "version": 3
   },
   "file_extension": ".py",
   "mimetype": "text/x-python",
   "name": "python",
   "nbconvert_exporter": "python",
   "pygments_lexer": "ipython3",
   "version": "3.8.5"
  }
 },
 "nbformat": 4,
 "nbformat_minor": 4
}
